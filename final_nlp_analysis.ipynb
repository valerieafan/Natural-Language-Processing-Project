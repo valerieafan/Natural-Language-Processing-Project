{
 "cells": [
  {
   "cell_type": "markdown",
   "id": "a98bfef3-7f0e-43ed-9d43-c7bdfe81a01b",
   "metadata": {},
   "source": [
    "### Reading in Data"
   ]
  },
  {
   "cell_type": "code",
   "execution_count": 1,
   "id": "7242c25d-ab2f-4324-9b01-411eb86e8fb9",
   "metadata": {},
   "outputs": [],
   "source": [
    "import numpy as np\n",
    "import pandas as pd\n",
    "import sklearn as sklearn"
   ]
  },
  {
   "cell_type": "code",
   "execution_count": 2,
   "id": "8f44d999-7ec2-48de-942b-cea1176546f2",
   "metadata": {},
   "outputs": [
    {
     "data": {
      "text/html": [
       "<div>\n",
       "<style scoped>\n",
       "    .dataframe tbody tr th:only-of-type {\n",
       "        vertical-align: middle;\n",
       "    }\n",
       "\n",
       "    .dataframe tbody tr th {\n",
       "        vertical-align: top;\n",
       "    }\n",
       "\n",
       "    .dataframe thead th {\n",
       "        text-align: right;\n",
       "    }\n",
       "</style>\n",
       "<table border=\"1\" class=\"dataframe\">\n",
       "  <thead>\n",
       "    <tr style=\"text-align: right;\">\n",
       "      <th></th>\n",
       "      <th>Interaction Territory Country</th>\n",
       "      <th>Interaction Dt</th>\n",
       "      <th>Hcp Feedback</th>\n",
       "      <th>Hcp Comments</th>\n",
       "      <th>Hcp Insight</th>\n",
       "      <th>Actionable</th>\n",
       "    </tr>\n",
       "  </thead>\n",
       "  <tbody>\n",
       "    <tr>\n",
       "      <th>0</th>\n",
       "      <td>BeLux</td>\n",
       "      <td>5/31/2021</td>\n",
       "      <td>Vedefar - pump support</td>\n",
       "      <td>Vedefar - pump support</td>\n",
       "      <td></td>\n",
       "      <td></td>\n",
       "    </tr>\n",
       "    <tr>\n",
       "      <th>1</th>\n",
       "      <td>Bulgaria</td>\n",
       "      <td>1/13/2020</td>\n",
       "      <td>ALL Assembly 2020 - details sent</td>\n",
       "      <td>ALL Assembly 2020 - details sent</td>\n",
       "      <td></td>\n",
       "      <td></td>\n",
       "    </tr>\n",
       "    <tr>\n",
       "      <th>2</th>\n",
       "      <td>Bulgaria</td>\n",
       "      <td>1/14/2020</td>\n",
       "      <td>Blincyto Regulatory training</td>\n",
       "      <td>Blincyto Regulatory training</td>\n",
       "      <td></td>\n",
       "      <td></td>\n",
       "    </tr>\n",
       "    <tr>\n",
       "      <th>3</th>\n",
       "      <td>Bulgaria</td>\n",
       "      <td>1/27/2020</td>\n",
       "      <td>ALL Assembly 2020 - certificate of attendance ...</td>\n",
       "      <td>ALL Assembly 2020 - certificate of attendance ...</td>\n",
       "      <td></td>\n",
       "      <td></td>\n",
       "    </tr>\n",
       "    <tr>\n",
       "      <th>4</th>\n",
       "      <td>Bulgaria</td>\n",
       "      <td>1/27/2020</td>\n",
       "      <td>ALL Assembly 2020 - certificate of attendance ...</td>\n",
       "      <td>ALL Assembly 2020 - certificate of attendance ...</td>\n",
       "      <td></td>\n",
       "      <td></td>\n",
       "    </tr>\n",
       "  </tbody>\n",
       "</table>\n",
       "</div>"
      ],
      "text/plain": [
       "  Interaction Territory Country Interaction Dt  \\\n",
       "0                         BeLux      5/31/2021   \n",
       "1                      Bulgaria      1/13/2020   \n",
       "2                      Bulgaria      1/14/2020   \n",
       "3                      Bulgaria      1/27/2020   \n",
       "4                      Bulgaria      1/27/2020   \n",
       "\n",
       "                                        Hcp Feedback  \\\n",
       "0                             Vedefar - pump support   \n",
       "1                   ALL Assembly 2020 - details sent   \n",
       "2                       Blincyto Regulatory training   \n",
       "3  ALL Assembly 2020 - certificate of attendance ...   \n",
       "4  ALL Assembly 2020 - certificate of attendance ...   \n",
       "\n",
       "                                        Hcp Comments Hcp Insight Actionable  \n",
       "0                             Vedefar - pump support                         \n",
       "1                   ALL Assembly 2020 - details sent                         \n",
       "2                       Blincyto Regulatory training                         \n",
       "3  ALL Assembly 2020 - certificate of attendance ...                         \n",
       "4  ALL Assembly 2020 - certificate of attendance ...                         "
      ]
     },
     "execution_count": 2,
     "metadata": {},
     "output_type": "execute_result"
    }
   ],
   "source": [
    "dataset = pd.read_csv('blin_interactions.csv', na_filter=False)\n",
    "#only look at comments and tags\n",
    "dataset = dataset[['Interaction Territory Country', 'Interaction Dt', 'Hcp Feedback', 'Hcp Comments', 'Hcp Insight', 'Actionable']]\n",
    "dataset.head()"
   ]
  },
  {
   "cell_type": "code",
   "execution_count": 3,
   "id": "7d09e4dc-6117-4680-96aa-1c8f8f76edb5",
   "metadata": {},
   "outputs": [
    {
     "data": {
      "text/html": [
       "<div>\n",
       "<style scoped>\n",
       "    .dataframe tbody tr th:only-of-type {\n",
       "        vertical-align: middle;\n",
       "    }\n",
       "\n",
       "    .dataframe tbody tr th {\n",
       "        vertical-align: top;\n",
       "    }\n",
       "\n",
       "    .dataframe thead th {\n",
       "        text-align: right;\n",
       "    }\n",
       "</style>\n",
       "<table border=\"1\" class=\"dataframe\">\n",
       "  <thead>\n",
       "    <tr style=\"text-align: right;\">\n",
       "      <th></th>\n",
       "      <th>Interaction Territory Country</th>\n",
       "      <th>Interaction Dt</th>\n",
       "      <th>Hcp Feedback</th>\n",
       "      <th>Actionable</th>\n",
       "    </tr>\n",
       "  </thead>\n",
       "  <tbody>\n",
       "    <tr>\n",
       "      <th>0</th>\n",
       "      <td>BeLux</td>\n",
       "      <td>5/31/2021</td>\n",
       "      <td>Vedefar - pump support</td>\n",
       "      <td></td>\n",
       "    </tr>\n",
       "    <tr>\n",
       "      <th>1</th>\n",
       "      <td>Bulgaria</td>\n",
       "      <td>1/13/2020</td>\n",
       "      <td>ALL Assembly 2020 - details sent</td>\n",
       "      <td></td>\n",
       "    </tr>\n",
       "    <tr>\n",
       "      <th>2</th>\n",
       "      <td>Bulgaria</td>\n",
       "      <td>1/14/2020</td>\n",
       "      <td>Blincyto Regulatory training</td>\n",
       "      <td></td>\n",
       "    </tr>\n",
       "    <tr>\n",
       "      <th>3</th>\n",
       "      <td>Bulgaria</td>\n",
       "      <td>1/27/2020</td>\n",
       "      <td>ALL Assembly 2020 - certificate of attendance ...</td>\n",
       "      <td></td>\n",
       "    </tr>\n",
       "    <tr>\n",
       "      <th>4</th>\n",
       "      <td>Bulgaria</td>\n",
       "      <td>1/27/2020</td>\n",
       "      <td>ALL Assembly 2020 - certificate of attendance ...</td>\n",
       "      <td></td>\n",
       "    </tr>\n",
       "  </tbody>\n",
       "</table>\n",
       "</div>"
      ],
      "text/plain": [
       "  Interaction Territory Country Interaction Dt  \\\n",
       "0                         BeLux      5/31/2021   \n",
       "1                      Bulgaria      1/13/2020   \n",
       "2                      Bulgaria      1/14/2020   \n",
       "3                      Bulgaria      1/27/2020   \n",
       "4                      Bulgaria      1/27/2020   \n",
       "\n",
       "                                        Hcp Feedback Actionable  \n",
       "0                             Vedefar - pump support             \n",
       "1                   ALL Assembly 2020 - details sent             \n",
       "2                       Blincyto Regulatory training             \n",
       "3  ALL Assembly 2020 - certificate of attendance ...             \n",
       "4  ALL Assembly 2020 - certificate of attendance ...             "
      ]
     },
     "execution_count": 3,
     "metadata": {},
     "output_type": "execute_result"
    }
   ],
   "source": [
    "#Combine redundant columns 15-17 (make them one column -> Hcp Feedback)\n",
    "\n",
    "for i in range(0, len(dataset)):\n",
    "    comment = str(dataset['Hcp Feedback'][i])\n",
    "    if not comment:\n",
    "        if dataset['Hcp Comments'][i]:\n",
    "            dataset['Hcp Feedback'][i] = dataset['Hcp Comments'][i]\n",
    "        else:\n",
    "            dataset['Hcp Feedback'][i] = dataset['Hcp Insight'][i]\n",
    "\n",
    "dataset.pop('Hcp Comments')\n",
    "dataset.pop('Hcp Insight')\n",
    "dataset.head()"
   ]
  },
  {
   "cell_type": "code",
   "execution_count": 4,
   "id": "a63d3777-5bb4-47bc-a5d5-701656784b27",
   "metadata": {},
   "outputs": [],
   "source": [
    "#If actionable 'y', tag as 1, else tag as 0\n",
    "\n",
    "for i in range(0, len(dataset)):\n",
    "    if dataset['Actionable'][i] == 'y':\n",
    "        dataset['Actionable'][i] = 1\n",
    "    else:\n",
    "        dataset['Actionable'][i] = 0"
   ]
  },
  {
   "cell_type": "code",
   "execution_count": 5,
   "id": "b7a0a110-7531-43b0-a491-d9553014b185",
   "metadata": {},
   "outputs": [
    {
     "name": "stdout",
     "output_type": "stream",
     "text": [
      "0    6974\n",
      "1     715\n",
      "Name: Actionable, dtype: int64\n"
     ]
    }
   ],
   "source": [
    "#Check class distribution of actionable\n",
    "act_classes = dataset['Actionable']\n",
    "print(act_classes.value_counts())"
   ]
  },
  {
   "cell_type": "markdown",
   "id": "6303e1c9-8ab3-4778-858f-da68c05ba359",
   "metadata": {},
   "source": [
    "### Pre-Processing Data"
   ]
  },
  {
   "cell_type": "code",
   "execution_count": 6,
   "id": "a9708d5c-12f4-47cc-8da9-f8f2af30f7f5",
   "metadata": {},
   "outputs": [],
   "source": [
    "import re\n",
    "import nltk\n",
    "from nltk.corpus import stopwords\n",
    "from nltk.stem import WordNetLemmatizer\n",
    "from nltk.corpus import wordnet"
   ]
  },
  {
   "cell_type": "code",
   "execution_count": 7,
   "id": "5749c966-7e37-4022-b8f8-0a4a60978104",
   "metadata": {},
   "outputs": [],
   "source": [
    "#Lowercase, split, and lemmatize comments\n",
    "cleaned_data = []\n",
    "indices = []\n",
    "\n",
    "for i in range(0, len(dataset['Hcp Feedback'])):\n",
    "    \n",
    "    comment = re.sub('[^a-zA-Z0-9]' , ' ' , dataset['Hcp Feedback'][i])\n",
    "    #comment = translator.translate(comment).text\n",
    "    comment = comment.lower()\n",
    "    comment = comment.split()\n",
    " \n",
    "    wl = WordNetLemmatizer()\n",
    "    comment = [wl.lemmatize(word) for word in comment] #if not word in set(stopwords.words('english'))]\n",
    "    comment = [w for w in comment if wordnet.synsets(w,pos='n',lang='eng')]\n",
    "    comment = ' '.join(comment)\n",
    "    cleaned_data.append(comment)\n",
    "    indices.append(i)"
   ]
  },
  {
   "cell_type": "code",
   "execution_count": 8,
   "id": "d3c32711-6b8c-49d9-bbb1-41f807fef060",
   "metadata": {},
   "outputs": [
    {
     "data": {
      "text/plain": [
       "7689"
      ]
     },
     "execution_count": 8,
     "metadata": {},
     "output_type": "execute_result"
    }
   ],
   "source": [
    "len(cleaned_data)"
   ]
  },
  {
   "cell_type": "code",
   "execution_count": 9,
   "id": "b0fd0262-4779-4177-aabc-302cf7c680f7",
   "metadata": {},
   "outputs": [],
   "source": [
    "#Remove comments that are blank after cleaning\n",
    "#new_ind keeps indices of original comments in cleaned_data, helpful for keeping track of original comments in later steps\n",
    "processed_data = []\n",
    "new_ind = []\n",
    "\n",
    "for i in range(0, len(cleaned_data)):\n",
    "    comment = cleaned_data[i]\n",
    "    if comment:\n",
    "        processed_data.append(comment)\n",
    "        new_ind.append(indices[i])"
   ]
  },
  {
   "cell_type": "code",
   "execution_count": 10,
   "id": "88b5286a-187f-448e-a0ea-67d1ce5093da",
   "metadata": {
    "tags": []
   },
   "outputs": [
    {
     "data": {
      "text/plain": [
       "7112"
      ]
     },
     "execution_count": 10,
     "metadata": {},
     "output_type": "execute_result"
    }
   ],
   "source": [
    "len(processed_data)"
   ]
  },
  {
   "cell_type": "code",
   "execution_count": 11,
   "id": "7cb40100-7035-4d5e-96e8-2a884e6396fc",
   "metadata": {
    "tags": []
   },
   "outputs": [],
   "source": [
    "#This is what was removed from the original dataset after cleaning:\n",
    "\n",
    "#for i in range(0, len(dataset)):\n",
    "    #if i not in new_ind:\n",
    "        #print(dataset['Hcp Feedback'][i])"
   ]
  },
  {
   "cell_type": "code",
   "execution_count": 12,
   "id": "9c6e1ea7-7332-42b6-b809-691ea1ae7c43",
   "metadata": {},
   "outputs": [],
   "source": [
    "#Get actionable status of just the processed data (blanks removed)\n",
    "new_act = []\n",
    "\n",
    "for i in new_ind:\n",
    "    new_act.append(dataset['Actionable'][i])"
   ]
  },
  {
   "cell_type": "code",
   "execution_count": 13,
   "id": "23e85cdb-97f6-4102-8037-6cf4875ac7f9",
   "metadata": {},
   "outputs": [],
   "source": [
    "#Zip processed comment data together with their actionable status\n",
    "processed_dataset = list(zip(processed_data, new_act))\n",
    "df = pd.DataFrame(processed_dataset,\n",
    "                  columns = ['Comments', 'Actionable'])"
   ]
  },
  {
   "cell_type": "markdown",
   "id": "d7def461-38bb-455d-a184-d3ccbb5754f8",
   "metadata": {},
   "source": [
    "### TF-IDF"
   ]
  },
  {
   "cell_type": "code",
   "execution_count": 14,
   "id": "5a34e71b-37f4-4726-b215-b908995bb408",
   "metadata": {},
   "outputs": [],
   "source": [
    "#Use built-in TF-IDF vectorizer to get array of scores for each feature, each comment\n",
    "from sklearn.feature_extraction.text import TfidfVectorizer\n",
    "vectorizer = TfidfVectorizer()\n",
    "vectors = vectorizer.fit_transform(processed_data)\n",
    "feature_names = vectorizer.get_feature_names()\n",
    "dense = vectors.todense()\n",
    "denselist = dense.tolist()\n",
    "feature_df = pd.DataFrame(denselist, columns=feature_names)"
   ]
  },
  {
   "cell_type": "code",
   "execution_count": 15,
   "id": "c2bf213b-440e-4e51-abc8-b21e25250d6e",
   "metadata": {},
   "outputs": [
    {
     "data": {
      "text/html": [
       "<div>\n",
       "<style scoped>\n",
       "    .dataframe tbody tr th:only-of-type {\n",
       "        vertical-align: middle;\n",
       "    }\n",
       "\n",
       "    .dataframe tbody tr th {\n",
       "        vertical-align: top;\n",
       "    }\n",
       "\n",
       "    .dataframe thead th {\n",
       "        text-align: right;\n",
       "    }\n",
       "</style>\n",
       "<table border=\"1\" class=\"dataframe\">\n",
       "  <thead>\n",
       "    <tr style=\"text-align: right;\">\n",
       "      <th></th>\n",
       "      <th>10</th>\n",
       "      <th>100</th>\n",
       "      <th>1000</th>\n",
       "      <th>10000</th>\n",
       "      <th>100000</th>\n",
       "      <th>11</th>\n",
       "      <th>12</th>\n",
       "      <th>13</th>\n",
       "      <th>14</th>\n",
       "      <th>15</th>\n",
       "      <th>...</th>\n",
       "      <th>year</th>\n",
       "      <th>yes</th>\n",
       "      <th>yesterday</th>\n",
       "      <th>yield</th>\n",
       "      <th>york</th>\n",
       "      <th>young</th>\n",
       "      <th>yr</th>\n",
       "      <th>zill</th>\n",
       "      <th>zone</th>\n",
       "      <th>zoom</th>\n",
       "    </tr>\n",
       "  </thead>\n",
       "  <tbody>\n",
       "    <tr>\n",
       "      <th>0</th>\n",
       "      <td>0.0</td>\n",
       "      <td>0.0</td>\n",
       "      <td>0.0</td>\n",
       "      <td>0.0</td>\n",
       "      <td>0.0</td>\n",
       "      <td>0.0</td>\n",
       "      <td>0.0</td>\n",
       "      <td>0.0</td>\n",
       "      <td>0.0</td>\n",
       "      <td>0.0</td>\n",
       "      <td>...</td>\n",
       "      <td>0.00000</td>\n",
       "      <td>0.0</td>\n",
       "      <td>0.0</td>\n",
       "      <td>0.0</td>\n",
       "      <td>0.0</td>\n",
       "      <td>0.0</td>\n",
       "      <td>0.0</td>\n",
       "      <td>0.0</td>\n",
       "      <td>0.0</td>\n",
       "      <td>0.0</td>\n",
       "    </tr>\n",
       "    <tr>\n",
       "      <th>1</th>\n",
       "      <td>0.0</td>\n",
       "      <td>0.0</td>\n",
       "      <td>0.0</td>\n",
       "      <td>0.0</td>\n",
       "      <td>0.0</td>\n",
       "      <td>0.0</td>\n",
       "      <td>0.0</td>\n",
       "      <td>0.0</td>\n",
       "      <td>0.0</td>\n",
       "      <td>0.0</td>\n",
       "      <td>...</td>\n",
       "      <td>0.00000</td>\n",
       "      <td>0.0</td>\n",
       "      <td>0.0</td>\n",
       "      <td>0.0</td>\n",
       "      <td>0.0</td>\n",
       "      <td>0.0</td>\n",
       "      <td>0.0</td>\n",
       "      <td>0.0</td>\n",
       "      <td>0.0</td>\n",
       "      <td>0.0</td>\n",
       "    </tr>\n",
       "    <tr>\n",
       "      <th>2</th>\n",
       "      <td>0.0</td>\n",
       "      <td>0.0</td>\n",
       "      <td>0.0</td>\n",
       "      <td>0.0</td>\n",
       "      <td>0.0</td>\n",
       "      <td>0.0</td>\n",
       "      <td>0.0</td>\n",
       "      <td>0.0</td>\n",
       "      <td>0.0</td>\n",
       "      <td>0.0</td>\n",
       "      <td>...</td>\n",
       "      <td>0.00000</td>\n",
       "      <td>0.0</td>\n",
       "      <td>0.0</td>\n",
       "      <td>0.0</td>\n",
       "      <td>0.0</td>\n",
       "      <td>0.0</td>\n",
       "      <td>0.0</td>\n",
       "      <td>0.0</td>\n",
       "      <td>0.0</td>\n",
       "      <td>0.0</td>\n",
       "    </tr>\n",
       "    <tr>\n",
       "      <th>3</th>\n",
       "      <td>0.0</td>\n",
       "      <td>0.0</td>\n",
       "      <td>0.0</td>\n",
       "      <td>0.0</td>\n",
       "      <td>0.0</td>\n",
       "      <td>0.0</td>\n",
       "      <td>0.0</td>\n",
       "      <td>0.0</td>\n",
       "      <td>0.0</td>\n",
       "      <td>0.0</td>\n",
       "      <td>...</td>\n",
       "      <td>0.00000</td>\n",
       "      <td>0.0</td>\n",
       "      <td>0.0</td>\n",
       "      <td>0.0</td>\n",
       "      <td>0.0</td>\n",
       "      <td>0.0</td>\n",
       "      <td>0.0</td>\n",
       "      <td>0.0</td>\n",
       "      <td>0.0</td>\n",
       "      <td>0.0</td>\n",
       "    </tr>\n",
       "    <tr>\n",
       "      <th>4</th>\n",
       "      <td>0.0</td>\n",
       "      <td>0.0</td>\n",
       "      <td>0.0</td>\n",
       "      <td>0.0</td>\n",
       "      <td>0.0</td>\n",
       "      <td>0.0</td>\n",
       "      <td>0.0</td>\n",
       "      <td>0.0</td>\n",
       "      <td>0.0</td>\n",
       "      <td>0.0</td>\n",
       "      <td>...</td>\n",
       "      <td>0.00000</td>\n",
       "      <td>0.0</td>\n",
       "      <td>0.0</td>\n",
       "      <td>0.0</td>\n",
       "      <td>0.0</td>\n",
       "      <td>0.0</td>\n",
       "      <td>0.0</td>\n",
       "      <td>0.0</td>\n",
       "      <td>0.0</td>\n",
       "      <td>0.0</td>\n",
       "    </tr>\n",
       "    <tr>\n",
       "      <th>...</th>\n",
       "      <td>...</td>\n",
       "      <td>...</td>\n",
       "      <td>...</td>\n",
       "      <td>...</td>\n",
       "      <td>...</td>\n",
       "      <td>...</td>\n",
       "      <td>...</td>\n",
       "      <td>...</td>\n",
       "      <td>...</td>\n",
       "      <td>...</td>\n",
       "      <td>...</td>\n",
       "      <td>...</td>\n",
       "      <td>...</td>\n",
       "      <td>...</td>\n",
       "      <td>...</td>\n",
       "      <td>...</td>\n",
       "      <td>...</td>\n",
       "      <td>...</td>\n",
       "      <td>...</td>\n",
       "      <td>...</td>\n",
       "      <td>...</td>\n",
       "    </tr>\n",
       "    <tr>\n",
       "      <th>7107</th>\n",
       "      <td>0.0</td>\n",
       "      <td>0.0</td>\n",
       "      <td>0.0</td>\n",
       "      <td>0.0</td>\n",
       "      <td>0.0</td>\n",
       "      <td>0.0</td>\n",
       "      <td>0.0</td>\n",
       "      <td>0.0</td>\n",
       "      <td>0.0</td>\n",
       "      <td>0.0</td>\n",
       "      <td>...</td>\n",
       "      <td>0.00000</td>\n",
       "      <td>0.0</td>\n",
       "      <td>0.0</td>\n",
       "      <td>0.0</td>\n",
       "      <td>0.0</td>\n",
       "      <td>0.0</td>\n",
       "      <td>0.0</td>\n",
       "      <td>0.0</td>\n",
       "      <td>0.0</td>\n",
       "      <td>0.0</td>\n",
       "    </tr>\n",
       "    <tr>\n",
       "      <th>7108</th>\n",
       "      <td>0.0</td>\n",
       "      <td>0.0</td>\n",
       "      <td>0.0</td>\n",
       "      <td>0.0</td>\n",
       "      <td>0.0</td>\n",
       "      <td>0.0</td>\n",
       "      <td>0.0</td>\n",
       "      <td>0.0</td>\n",
       "      <td>0.0</td>\n",
       "      <td>0.0</td>\n",
       "      <td>...</td>\n",
       "      <td>0.00000</td>\n",
       "      <td>0.0</td>\n",
       "      <td>0.0</td>\n",
       "      <td>0.0</td>\n",
       "      <td>0.0</td>\n",
       "      <td>0.0</td>\n",
       "      <td>0.0</td>\n",
       "      <td>0.0</td>\n",
       "      <td>0.0</td>\n",
       "      <td>0.0</td>\n",
       "    </tr>\n",
       "    <tr>\n",
       "      <th>7109</th>\n",
       "      <td>0.0</td>\n",
       "      <td>0.0</td>\n",
       "      <td>0.0</td>\n",
       "      <td>0.0</td>\n",
       "      <td>0.0</td>\n",
       "      <td>0.0</td>\n",
       "      <td>0.0</td>\n",
       "      <td>0.0</td>\n",
       "      <td>0.0</td>\n",
       "      <td>0.0</td>\n",
       "      <td>...</td>\n",
       "      <td>0.22743</td>\n",
       "      <td>0.0</td>\n",
       "      <td>0.0</td>\n",
       "      <td>0.0</td>\n",
       "      <td>0.0</td>\n",
       "      <td>0.0</td>\n",
       "      <td>0.0</td>\n",
       "      <td>0.0</td>\n",
       "      <td>0.0</td>\n",
       "      <td>0.0</td>\n",
       "    </tr>\n",
       "    <tr>\n",
       "      <th>7110</th>\n",
       "      <td>0.0</td>\n",
       "      <td>0.0</td>\n",
       "      <td>0.0</td>\n",
       "      <td>0.0</td>\n",
       "      <td>0.0</td>\n",
       "      <td>0.0</td>\n",
       "      <td>0.0</td>\n",
       "      <td>0.0</td>\n",
       "      <td>0.0</td>\n",
       "      <td>0.0</td>\n",
       "      <td>...</td>\n",
       "      <td>0.00000</td>\n",
       "      <td>0.0</td>\n",
       "      <td>0.0</td>\n",
       "      <td>0.0</td>\n",
       "      <td>0.0</td>\n",
       "      <td>0.0</td>\n",
       "      <td>0.0</td>\n",
       "      <td>0.0</td>\n",
       "      <td>0.0</td>\n",
       "      <td>0.0</td>\n",
       "    </tr>\n",
       "    <tr>\n",
       "      <th>7111</th>\n",
       "      <td>0.0</td>\n",
       "      <td>0.0</td>\n",
       "      <td>0.0</td>\n",
       "      <td>0.0</td>\n",
       "      <td>0.0</td>\n",
       "      <td>0.0</td>\n",
       "      <td>0.0</td>\n",
       "      <td>0.0</td>\n",
       "      <td>0.0</td>\n",
       "      <td>0.0</td>\n",
       "      <td>...</td>\n",
       "      <td>0.00000</td>\n",
       "      <td>0.0</td>\n",
       "      <td>0.0</td>\n",
       "      <td>0.0</td>\n",
       "      <td>0.0</td>\n",
       "      <td>0.0</td>\n",
       "      <td>0.0</td>\n",
       "      <td>0.0</td>\n",
       "      <td>0.0</td>\n",
       "      <td>0.0</td>\n",
       "    </tr>\n",
       "  </tbody>\n",
       "</table>\n",
       "<p>7112 rows × 3209 columns</p>\n",
       "</div>"
      ],
      "text/plain": [
       "       10  100  1000  10000  100000   11   12   13   14   15  ...     year  \\\n",
       "0     0.0  0.0   0.0    0.0     0.0  0.0  0.0  0.0  0.0  0.0  ...  0.00000   \n",
       "1     0.0  0.0   0.0    0.0     0.0  0.0  0.0  0.0  0.0  0.0  ...  0.00000   \n",
       "2     0.0  0.0   0.0    0.0     0.0  0.0  0.0  0.0  0.0  0.0  ...  0.00000   \n",
       "3     0.0  0.0   0.0    0.0     0.0  0.0  0.0  0.0  0.0  0.0  ...  0.00000   \n",
       "4     0.0  0.0   0.0    0.0     0.0  0.0  0.0  0.0  0.0  0.0  ...  0.00000   \n",
       "...   ...  ...   ...    ...     ...  ...  ...  ...  ...  ...  ...      ...   \n",
       "7107  0.0  0.0   0.0    0.0     0.0  0.0  0.0  0.0  0.0  0.0  ...  0.00000   \n",
       "7108  0.0  0.0   0.0    0.0     0.0  0.0  0.0  0.0  0.0  0.0  ...  0.00000   \n",
       "7109  0.0  0.0   0.0    0.0     0.0  0.0  0.0  0.0  0.0  0.0  ...  0.22743   \n",
       "7110  0.0  0.0   0.0    0.0     0.0  0.0  0.0  0.0  0.0  0.0  ...  0.00000   \n",
       "7111  0.0  0.0   0.0    0.0     0.0  0.0  0.0  0.0  0.0  0.0  ...  0.00000   \n",
       "\n",
       "      yes  yesterday  yield  york  young   yr  zill  zone  zoom  \n",
       "0     0.0        0.0    0.0   0.0    0.0  0.0   0.0   0.0   0.0  \n",
       "1     0.0        0.0    0.0   0.0    0.0  0.0   0.0   0.0   0.0  \n",
       "2     0.0        0.0    0.0   0.0    0.0  0.0   0.0   0.0   0.0  \n",
       "3     0.0        0.0    0.0   0.0    0.0  0.0   0.0   0.0   0.0  \n",
       "4     0.0        0.0    0.0   0.0    0.0  0.0   0.0   0.0   0.0  \n",
       "...   ...        ...    ...   ...    ...  ...   ...   ...   ...  \n",
       "7107  0.0        0.0    0.0   0.0    0.0  0.0   0.0   0.0   0.0  \n",
       "7108  0.0        0.0    0.0   0.0    0.0  0.0   0.0   0.0   0.0  \n",
       "7109  0.0        0.0    0.0   0.0    0.0  0.0   0.0   0.0   0.0  \n",
       "7110  0.0        0.0    0.0   0.0    0.0  0.0   0.0   0.0   0.0  \n",
       "7111  0.0        0.0    0.0   0.0    0.0  0.0   0.0   0.0   0.0  \n",
       "\n",
       "[7112 rows x 3209 columns]"
      ]
     },
     "execution_count": 15,
     "metadata": {},
     "output_type": "execute_result"
    }
   ],
   "source": [
    "feature_df"
   ]
  },
  {
   "cell_type": "code",
   "execution_count": 45,
   "id": "ee02736e-8b2e-45b1-a310-e99a09580b53",
   "metadata": {
    "collapsed": true,
    "jupyter": {
     "outputs_hidden": true,
     "source_hidden": true
    },
    "tags": []
   },
   "outputs": [
    {
     "name": "stdout",
     "output_type": "stream",
     "text": [
      "1.4112508897552174\n"
     ]
    }
   ],
   "source": [
    "count = 0\n",
    "for i in range(0, feature_df.shape[1]):\n",
    "    count += feature_df.iloc[0,i]\n",
    "\n",
    "print(count)"
   ]
  },
  {
   "cell_type": "code",
   "execution_count": 16,
   "id": "10b81cfa-d58c-4fd7-87ea-d5ce89f1c183",
   "metadata": {},
   "outputs": [
    {
     "data": {
      "text/plain": [
       "(7112, 3209)"
      ]
     },
     "execution_count": 16,
     "metadata": {},
     "output_type": "execute_result"
    }
   ],
   "source": [
    "#X is the TF-IDF feature matrix\n",
    "X = feature_df\n",
    "X.shape"
   ]
  },
  {
   "cell_type": "code",
   "execution_count": 17,
   "id": "5a737d20-4725-447d-8c31-1f69d91f426e",
   "metadata": {},
   "outputs": [
    {
     "data": {
      "text/plain": [
       "(7112,)"
      ]
     },
     "execution_count": 17,
     "metadata": {},
     "output_type": "execute_result"
    }
   ],
   "source": [
    "#Y is the actionable status tags\n",
    "Y = df['Actionable']\n",
    "Y.shape"
   ]
  },
  {
   "cell_type": "code",
   "execution_count": 18,
   "id": "71476b16-8f29-40a0-a5fa-f68a9f55e3a6",
   "metadata": {},
   "outputs": [
    {
     "data": {
      "text/plain": [
       "array([0, 1], dtype=int64)"
      ]
     },
     "execution_count": 18,
     "metadata": {},
     "output_type": "execute_result"
    }
   ],
   "source": [
    "#Checking that we have two classes in Y\n",
    "np.unique(Y)"
   ]
  },
  {
   "cell_type": "markdown",
   "id": "08a9ab84-6a29-4d58-b5de-a1d3f0d9520a",
   "metadata": {},
   "source": [
    "### Undersampling to Adjust for Class Imbalance"
   ]
  },
  {
   "cell_type": "code",
   "execution_count": 19,
   "id": "feb6cc00-9eb8-4e5d-b834-894787c03264",
   "metadata": {},
   "outputs": [],
   "source": [
    "import seaborn as sns"
   ]
  },
  {
   "cell_type": "code",
   "execution_count": 20,
   "id": "ff1ac06c-3195-43c2-bde8-b66f75d64cea",
   "metadata": {},
   "outputs": [
    {
     "name": "stdout",
     "output_type": "stream",
     "text": [
      "715\n"
     ]
    }
   ],
   "source": [
    "target = 'Actionable'\n",
    "minority_class_len = len(df[df[target] == 1])\n",
    "print(minority_class_len)"
   ]
  },
  {
   "cell_type": "code",
   "execution_count": 21,
   "id": "b20eda72-5d66-4de5-8bc5-377d7a2d0b0f",
   "metadata": {},
   "outputs": [
    {
     "data": {
      "text/plain": [
       "<AxesSubplot:xlabel='Actionable', ylabel='count'>"
      ]
     },
     "execution_count": 21,
     "metadata": {},
     "output_type": "execute_result"
    },
    {
     "data": {
      "image/png": "[encoded data removed]",
      "text/plain": [
       "<Figure size 432x288 with 1 Axes>"
      ]
     },
     "metadata": {
      "needs_background": "light"
     },
     "output_type": "display_data"
    }
   ],
   "source": [
    "sns.countplot(x=target, data=df)"
   ]
  },
  {
   "cell_type": "code",
   "execution_count": 22,
   "id": "27180244-8fc9-4cdf-91ec-cee437e9f0d1",
   "metadata": {},
   "outputs": [
    {
     "name": "stdout",
     "output_type": "stream",
     "text": [
      "Int64Index([   0,    1,    2,    3,    4,    5,    6,    7,    8,    9,\n",
      "            ...\n",
      "            7098, 7099, 7101, 7103, 7104, 7107, 7108, 7109, 7110, 7111],\n",
      "           dtype='int64', length=6397)\n"
     ]
    }
   ],
   "source": [
    "#Find indices of majority class (Not Actionable)\n",
    "\n",
    "majority_class_indices = df[df[target] == 0].index\n",
    "print(majority_class_indices)"
   ]
  },
  {
   "cell_type": "code",
   "execution_count": 23,
   "id": "a3c8ed01-91ba-44e9-b243-ca2ab589ede2",
   "metadata": {},
   "outputs": [
    {
     "name": "stdout",
     "output_type": "stream",
     "text": [
      "Int64Index([ 505,  507,  514,  518,  525,  526,  858,  926,  968,  976,\n",
      "            ...\n",
      "            7077, 7078, 7082, 7086, 7088, 7096, 7100, 7102, 7105, 7106],\n",
      "           dtype='int64', length=715)\n"
     ]
    }
   ],
   "source": [
    "#Find indices of minority class (Actionable)\n",
    "\n",
    "minority_class_indices = df[df[target] == 1].index\n",
    "print(minority_class_indices)"
   ]
  },
  {
   "cell_type": "code",
   "execution_count": 24,
   "id": "71bdd277-a1dd-4e0a-b763-a80565b3bdb0",
   "metadata": {},
   "outputs": [
    {
     "name": "stdout",
     "output_type": "stream",
     "text": [
      "715\n"
     ]
    }
   ],
   "source": [
    "#Randomly pick the number of majority class to be equal to minority\n",
    "random_majority_indices = np.random.choice(majority_class_indices,\n",
    "                                           minority_class_len, \n",
    "                                           replace=False)\n",
    "print(len(random_majority_indices))"
   ]
  },
  {
   "cell_type": "code",
   "execution_count": 25,
   "id": "6d33c217-2315-4ad9-803b-1a74722c9936",
   "metadata": {},
   "outputs": [],
   "source": [
    "#Rejoin minority and majority\n",
    "under_sample_indices = np.concatenate([minority_class_indices,random_majority_indices])"
   ]
  },
  {
   "cell_type": "code",
   "execution_count": 26,
   "id": "ccf87808-eb42-4d7d-9502-60c51f8b0877",
   "metadata": {},
   "outputs": [],
   "source": [
    "under_sample = df.loc[under_sample_indices]"
   ]
  },
  {
   "cell_type": "code",
   "execution_count": 27,
   "id": "3fbd40bc-e9f6-48be-9426-6dbaa1671fee",
   "metadata": {},
   "outputs": [
    {
     "data": {
      "text/plain": [
       "<AxesSubplot:xlabel='Actionable', ylabel='count'>"
      ]
     },
     "execution_count": 27,
     "metadata": {},
     "output_type": "execute_result"
    },
    {
     "data": {
      "image/png": "[encoded data removed]",
      "text/plain": [
       "<Figure size 432x288 with 1 Axes>"
      ]
     },
     "metadata": {
      "needs_background": "light"
     },
     "output_type": "display_data"
    }
   ],
   "source": [
    "sns.countplot(x=target, data=under_sample)"
   ]
  },
  {
   "cell_type": "code",
   "execution_count": 28,
   "id": "b57435ce-3594-4e05-8899-c0fc6d556fde",
   "metadata": {},
   "outputs": [
    {
     "data": {
      "text/plain": [
       "1430"
      ]
     },
     "execution_count": 28,
     "metadata": {},
     "output_type": "execute_result"
    }
   ],
   "source": [
    "len(under_sample)"
   ]
  },
  {
   "cell_type": "markdown",
   "id": "d544937f-ccb2-499f-b871-43ed880c4e89",
   "metadata": {},
   "source": [
    "### Training and Testing"
   ]
  },
  {
   "cell_type": "code",
   "execution_count": 29,
   "id": "ec70ad5a-4446-4343-8de6-3539571c1241",
   "metadata": {},
   "outputs": [],
   "source": [
    "from sklearn.model_selection import train_test_split\n",
    "from sklearn.linear_model import LogisticRegression\n",
    "from sklearn.metrics import accuracy_score\n",
    "from sklearn.metrics import precision_score, recall_score, confusion_matrix\n",
    "from sklearn.metrics import f1_score, roc_auc_score, roc_curve"
   ]
  },
  {
   "cell_type": "code",
   "execution_count": 30,
   "id": "a98eccde-4299-4d57-bebb-aceb9016cd0c",
   "metadata": {},
   "outputs": [],
   "source": [
    "#New X and Y with undersampling\n",
    "X = feature_df.loc[under_sample_indices]\n",
    "Y = under_sample['Actionable']"
   ]
  },
  {
   "cell_type": "code",
   "execution_count": 31,
   "id": "37dc8a64-466e-493c-872c-f882d87b3c9b",
   "metadata": {},
   "outputs": [
    {
     "name": "stdout",
     "output_type": "stream",
     "text": [
      "Training: 1001\n",
      "Testing: 429\n"
     ]
    }
   ],
   "source": [
    "#Split training and testing data\n",
    "X_train, X_test, Y_train, Y_test = train_test_split(X, Y, test_size=0.3, random_state=42)\n",
    "print('Training:', len(Y_train))\n",
    "print('Testing:', len(Y_test))"
   ]
  },
  {
   "cell_type": "code",
   "execution_count": 32,
   "id": "2dbc39ab-fa56-455e-b376-7fce151d0706",
   "metadata": {},
   "outputs": [],
   "source": [
    "#Fit data to logistic regression\n",
    "clf = LogisticRegression().fit(X_train, Y_train.values.ravel())\n",
    "Y_Test_Pred = clf.predict(X_test)"
   ]
  },
  {
   "cell_type": "code",
   "execution_count": 33,
   "id": "19f474d2-0e23-4a5f-8083-6df55c6e4c5b",
   "metadata": {
    "tags": []
   },
   "outputs": [
    {
     "data": {
      "text/plain": [
       "array([1, 0, 1, 1, 0, 1, 0, 1, 1, 1, 1, 0, 0, 0, 1, 0, 1, 1, 1, 1, 1, 1,\n",
       "       1, 1, 1, 1, 1, 0, 1, 1, 1, 0, 0, 0, 0, 0, 1, 1, 0, 0, 1, 1, 1, 0,\n",
       "       0, 1, 1, 0, 1, 1, 1, 1, 0, 1, 0, 0, 1, 0, 0, 0, 0, 0, 0, 0, 1, 0,\n",
       "       0, 0, 0, 0, 0, 0, 1, 0, 0, 0, 1, 0, 1, 0, 0, 1, 1, 1, 0, 0, 0, 1,\n",
       "       1, 0, 0, 0, 1, 0, 1, 0, 1, 1, 1, 1, 0, 1, 1, 0, 1, 1, 1, 0, 0, 0,\n",
       "       1, 1, 0, 1, 1, 1, 1, 1, 0, 1, 1, 1, 1, 1, 0, 1, 0, 0, 0, 1, 1, 1,\n",
       "       0, 1, 1, 1, 1, 1, 1, 1, 0, 0, 1, 1, 1, 1, 1, 1, 1, 1, 1, 0, 1, 0,\n",
       "       0, 0, 1, 1, 0, 0, 1, 1, 0, 0, 0, 0, 1, 1, 1, 1, 1, 1, 1, 0, 1, 0,\n",
       "       0, 0, 0, 1, 0, 1, 1, 1, 1, 0, 1, 1, 0, 0, 0, 0, 0, 1, 1, 0, 0, 0,\n",
       "       1, 1, 0, 0, 0, 1, 0, 1, 0, 0, 0, 1, 0, 0, 1, 0, 1, 1, 1, 1, 1, 1,\n",
       "       0, 1, 0, 0, 0, 1, 1, 0, 0, 0, 0, 0, 1, 1, 1, 1, 1, 1, 0, 0, 1, 0,\n",
       "       0, 0, 0, 0, 0, 0, 0, 1, 1, 0, 1, 1, 1, 0, 1, 1, 1, 1, 1, 0, 1, 0,\n",
       "       0, 0, 1, 1, 1, 1, 0, 0, 0, 1, 1, 1, 0, 0, 1, 1, 0, 0, 1, 0, 0, 0,\n",
       "       1, 1, 1, 1, 0, 1, 0, 0, 0, 1, 1, 0, 1, 1, 0, 1, 1, 0, 0, 1, 0, 1,\n",
       "       1, 0, 0, 0, 0, 0, 0, 0, 0, 0, 1, 0, 1, 0, 1, 1, 1, 1, 0, 0, 0, 0,\n",
       "       0, 1, 0, 0, 0, 0, 0, 1, 1, 1, 0, 0, 0, 1, 1, 1, 0, 1, 1, 0, 1, 1,\n",
       "       0, 1, 1, 0, 1, 0, 0, 1, 0, 1, 0, 1, 0, 0, 0, 1, 0, 1, 0, 1, 0, 1,\n",
       "       1, 0, 1, 0, 0, 1, 1, 1, 1, 0, 1, 0, 1, 1, 0, 1, 1, 1, 1, 0, 1, 1,\n",
       "       0, 1, 1, 0, 0, 1, 0, 0, 1, 1, 0, 0, 0, 1, 1, 1, 0, 0, 1, 1, 0, 0,\n",
       "       0, 0, 1, 1, 1, 1, 1, 1, 0, 1, 1], dtype=int64)"
      ]
     },
     "execution_count": 33,
     "metadata": {},
     "output_type": "execute_result"
    }
   ],
   "source": [
    "Y_Test_Pred"
   ]
  },
  {
   "cell_type": "code",
   "execution_count": 34,
   "id": "1d1a832b-5df7-469a-b08e-220d7f028a2c",
   "metadata": {},
   "outputs": [],
   "source": [
    "def generate_model_report(y_actual, y_predicted):\n",
    "    print(\"Accuracy = \" , accuracy_score(y_actual, y_predicted))\n",
    "    print(\"Precision = \" ,precision_score(y_actual, y_predicted))\n",
    "    print(\"Recall = \" ,recall_score(y_actual, y_predicted))\n",
    "    print(\"F1 Score = \" ,f1_score(y_actual, y_predicted))\n",
    "    pass"
   ]
  },
  {
   "cell_type": "code",
   "execution_count": 35,
   "id": "9d3f0adf-13c8-4d27-95d3-88c5c1613055",
   "metadata": {},
   "outputs": [
    {
     "name": "stdout",
     "output_type": "stream",
     "text": [
      "Accuracy =  0.8181818181818182\n",
      "Precision =  0.801762114537445\n",
      "Recall =  0.8465116279069768\n",
      "F1 Score =  0.8235294117647058\n"
     ]
    }
   ],
   "source": [
    "generate_model_report(Y_test, Y_Test_Pred)"
   ]
  },
  {
   "cell_type": "code",
   "execution_count": 36,
   "id": "8b7914c0-94ff-4661-9cce-99ec68e7fca3",
   "metadata": {},
   "outputs": [],
   "source": [
    "#Print actionable items- start by getting indices of original comments\n",
    "#ind = indices of only actionable items\n",
    "ind = []\n",
    "\n",
    "for i in range(0, len(Y_Test_Pred)):\n",
    "    item = Y_Test_Pred[i]\n",
    "    if item == 1:\n",
    "        ind.append(i)\n",
    "\n",
    "comment_indices = []\n",
    "for i in ind:\n",
    "    comment_indices.append(X.iloc[i].name)"
   ]
  },
  {
   "cell_type": "code",
   "execution_count": 37,
   "id": "0fb1549c-226b-426e-a8bd-3c7943d4412b",
   "metadata": {
    "tags": []
   },
   "outputs": [],
   "source": [
    "#Make list of actionable items detected with ML!\n",
    "act_lst = []\n",
    "\n",
    "for i in comment_indices:\n",
    "    index = new_ind[i]\n",
    "    item = []\n",
    "    item.append(index+2)\n",
    "    item.append(dataset['Hcp Feedback'][index])\n",
    "    act_lst.append(item)"
   ]
  },
  {
   "cell_type": "code",
   "execution_count": 38,
   "id": "895f4a87-5f0e-4e99-97c7-adec33cd5686",
   "metadata": {},
   "outputs": [
    {
     "name": "stdout",
     "output_type": "stream",
     "text": [
      "2219. The group was upset because of ISS refuse. Brazilian data is very important to give opportunity of new technology use and local pharmacoeconomic analysis.\n",
      "2265. Discussion with data MOLACT1 and how CF or NGS could help to underestand better the patient - in his opinion, the more sensitive the test the better.\n",
      "2395. Public access is essential for patient perspective. In her institution more than 70% of patients came from public system and with the new evidences in HR RR first relapse children is the best for the patient\n",
      "2950. •\tIn response to your below question, he mentioned that he just had a case in the last month where Blinatumomab was approved in first relapse. \n",
      "•\tHe’s excited about the NOC for patients with MRD+ which he felt will help accessing Blin at first relapse. \n",
      "•\tWe discussed how the major issue related to INESSS listing criteria of CAR-T not allowing for any prior anti-CD19 therapy is limiting their use of Blin. He mentioned that Novartis was doing a lot of noise to ensure physicians were aware of this specificity.\n",
      "•\tBecause of CAR-T, they are hopeful that most ALL pediatric patients may not need transplant which would be a big advantage for the long-term health of these patients. Note that the Kite CAR-T will be used with transplant, therefore, less attractive for clinicians. \n",
      "•\tHe doesn’t believe that patients under Blin would have morphologic relapse and loss of CD19 expression, but nevertheless, they have to deal with the INESSS decision to limit CAR-T if a CD19 agent was used. \n",
      "-Ste-Justine is the transplant center for the whole province for kids and they get referrals for CAR-T from all over the province\n",
      "3035. almost doubling of ALL pts seen at VGH in past 2 year - 50/yr NDALL. Due to ability to treat more elderly population with novel treatments (blin) also incidence increasing an all ALL pts now treated at VGH\n",
      "3165. Doctor Santa and Salinas are the main hemato-oncologists at Medellin Clinic. They have tried to use Blinatumomab for adult RR B-ALL, but because of cost and access challenges it has not been possible. They have the perception that Blina is not for every patient, specifically because of the high cost, they believe that treatment should be given to achieve MRD negativity and bring patients to transplant. Since they are not currently doing transplantation at their institution, they always have to send the to IDC. Not all patients will have a donor, so that is also a challenge.\n",
      "3259. Doctor Pedraza is a recently graduated hematologist, who was finishing studies in Bogota, but is now working at IMAT, in Monteria, one of the biggest oncological clinics in the north coast of Colombia, and one of the main clinical trial centers in the country. \n",
      "He reached out because he wanted to know about the dosing and administration of Blina, specially because of the high cost, he wanted to know how to optimize with the first cycle. I created a med info request in order to send the article of Blina optimization.\n",
      "4234. Dr chihkii sated that they are facing plenty of relapses within the pediatric population suffering from acute lymphoblastic leukemia which highlights even more the importance of MRD evaluation. \n",
      "the matter of allogeneic transplantation which is not performed at CR1\n",
      "4302. Dr Belaid defiiines MRD evaluation as the detection of aberrant surface markers within malignant cells. \n",
      "He also emphasized the hurdles within FCM technique in MRD assessment, of which: \n",
      "One tube must contain all the necessary markers. \n",
      "NGF: Next generation flow cytometry requires a 30 colors cytometer, which required at least 10 million cells to evaluate for MRD and this exceeds the capacity of our cytometers. \n",
      "\n",
      "In order to increase sensitivity the more appropriate technique to evaluate MRD is molecular biology technique. \n",
      "\n",
      "for and acceptable sensitivity and specificity, at least 2 Million cells must be used. \n",
      "\n",
      "the challenge that we face to implement MRD ealuation by FCM is that is reagent, cost and time consuming and this make it difficult to hold on with the technique in practical routine.\n",
      "4917. Great drug and really needed.\n"
     ]
    }
   ],
   "source": [
    "#Print out a sample of 10 items from actionable items list\n",
    "\n",
    "import random\n",
    "lst = list(range(len(act_lst)))\n",
    "random_indices = random.sample(lst, 10)\n",
    "\n",
    "for i in range(0, len(act_lst)):\n",
    "    if i in random_indices:\n",
    "        print('{}. {}'.format(act_lst[i][0], act_lst[i][1]))\n"
   ]
  },
  {
   "cell_type": "markdown",
   "id": "34ef7edf-b6ff-4bdb-a3e7-8d4b819257f7",
   "metadata": {
    "tags": []
   },
   "source": [
    "### Analysis by Country"
   ]
  },
  {
   "cell_type": "code",
   "execution_count": 39,
   "id": "daad912d-3735-47f2-a263-290165d20dff",
   "metadata": {},
   "outputs": [],
   "source": [
    "#Make list of all countries with actionable items detected\n",
    "act_countries = []\n",
    "\n",
    "for item in act_lst:\n",
    "    country = dataset['Interaction Territory Country'][item[0]]\n",
    "    if country not in act_countries:\n",
    "        act_countries.append(country)"
   ]
  },
  {
   "cell_type": "code",
   "execution_count": 40,
   "id": "123baede-b16b-4a43-ace2-b2d02bf49305",
   "metadata": {},
   "outputs": [
    {
     "data": {
      "text/plain": [
       "['Poland',\n",
       " 'AR',\n",
       " 'BR',\n",
       " 'CA',\n",
       " 'CO',\n",
       " 'Gulf States',\n",
       " 'Maghreb',\n",
       " 'MX',\n",
       " 'South Africa']"
      ]
     },
     "execution_count": 40,
     "metadata": {},
     "output_type": "execute_result"
    }
   ],
   "source": [
    "act_countries"
   ]
  },
  {
   "cell_type": "code",
   "execution_count": 41,
   "id": "f11675a5-d6d0-4422-b226-8e2017b08186",
   "metadata": {},
   "outputs": [],
   "source": [
    "#All countries in dataset\n",
    "all_countries = []\n",
    "\n",
    "for comment in dataset['Interaction Territory Country']:\n",
    "    if comment not in all_countries:\n",
    "        all_countries.append(comment)"
   ]
  },
  {
   "cell_type": "code",
   "execution_count": 42,
   "id": "6e07cb87-3771-4d65-b05d-32dc045854e9",
   "metadata": {},
   "outputs": [],
   "source": [
    "#Initializing dicts to all zeros\n",
    "country_counts = dict.fromkeys(act_countries,0)\n",
    "country_totals = dict.fromkeys(all_countries,0)"
   ]
  },
  {
   "cell_type": "code",
   "execution_count": 43,
   "id": "90a9c6fb-4c4c-4368-b80e-0c23c21abe42",
   "metadata": {},
   "outputs": [],
   "source": [
    "#Get counts of actionable items in each country (some countries have none)\n",
    "for item in act_lst:\n",
    "    country = dataset['Interaction Territory Country'][item[0]]\n",
    "    country_counts[country] +=1"
   ]
  },
  {
   "cell_type": "code",
   "execution_count": 44,
   "id": "8aa9e795-5670-4627-a35c-e19653aa024f",
   "metadata": {},
   "outputs": [
    {
     "data": {
      "text/plain": [
       "{'Poland': 4,\n",
       " 'AR': 4,\n",
       " 'BR': 101,\n",
       " 'CA': 14,\n",
       " 'CO': 39,\n",
       " 'Gulf States': 5,\n",
       " 'Maghreb': 47,\n",
       " 'MX': 11,\n",
       " 'South Africa': 2}"
      ]
     },
     "execution_count": 44,
     "metadata": {},
     "output_type": "execute_result"
    }
   ],
   "source": [
    "country_counts"
   ]
  },
  {
   "cell_type": "code",
   "execution_count": 45,
   "id": "05f627ed-8aa7-4ae4-8a30-fa8263c253be",
   "metadata": {},
   "outputs": [],
   "source": [
    "#Get totals for each country\n",
    "for comment in dataset['Interaction Territory Country']:\n",
    "    country_totals[comment] +=1"
   ]
  },
  {
   "cell_type": "code",
   "execution_count": 46,
   "id": "dfc5dd71-66c1-4f42-b23e-10ea424735af",
   "metadata": {},
   "outputs": [],
   "source": [
    "#Percentage of actionable items by country\n",
    "percent_actionable = {}\n",
    "for (key,value) in country_totals.items():\n",
    "    if key in country_counts:\n",
    "        percent_actionable[key] = country_counts[key]/value * 100"
   ]
  },
  {
   "cell_type": "code",
   "execution_count": 47,
   "id": "aff164ef-b2d7-4c35-8c56-1f5b7f8f0fcc",
   "metadata": {},
   "outputs": [
    {
     "data": {
      "text/plain": [
       "{'Poland': 4.878048780487805,\n",
       " 'AR': 0.7936507936507936,\n",
       " 'BR': 7.271418286537077,\n",
       " 'CA': 7.253886010362693,\n",
       " 'CO': 12.786885245901638,\n",
       " 'Gulf States': 1.9920318725099602,\n",
       " 'Maghreb': 6.368563685636857,\n",
       " 'MX': 2.301255230125523,\n",
       " 'South Africa': 5.0}"
      ]
     },
     "execution_count": 47,
     "metadata": {},
     "output_type": "execute_result"
    }
   ],
   "source": [
    "percent_actionable"
   ]
  },
  {
   "cell_type": "markdown",
   "id": "2be73988-ba26-4dab-a71c-cc509df4ae27",
   "metadata": {},
   "source": [
    "### Apply to XGEVA Dataset - Test!"
   ]
  },
  {
   "cell_type": "code",
   "execution_count": 48,
   "id": "835156dc-1d67-4a4b-95d1-21f0f4c2d05c",
   "metadata": {},
   "outputs": [
    {
     "data": {
      "text/html": [
       "<div>\n",
       "<style scoped>\n",
       "    .dataframe tbody tr th:only-of-type {\n",
       "        vertical-align: middle;\n",
       "    }\n",
       "\n",
       "    .dataframe tbody tr th {\n",
       "        vertical-align: top;\n",
       "    }\n",
       "\n",
       "    .dataframe thead th {\n",
       "        text-align: right;\n",
       "    }\n",
       "</style>\n",
       "<table border=\"1\" class=\"dataframe\">\n",
       "  <thead>\n",
       "    <tr style=\"text-align: right;\">\n",
       "      <th></th>\n",
       "      <th>interaction_dt</th>\n",
       "      <th>hcp_comments</th>\n",
       "    </tr>\n",
       "  </thead>\n",
       "  <tbody>\n",
       "    <tr>\n",
       "      <th>0</th>\n",
       "      <td>6/25/2020</td>\n",
       "      <td>We talked about risk of hypocalcemia in patien...</td>\n",
       "    </tr>\n",
       "    <tr>\n",
       "      <th>1</th>\n",
       "      <td>9/2/2020</td>\n",
       "      <td>XGEVA safety aspects.</td>\n",
       "    </tr>\n",
       "    <tr>\n",
       "      <th>2</th>\n",
       "      <td>11/7/2020</td>\n",
       "      <td>Lung cancer is the second cancer in men, 3000 ...</td>\n",
       "    </tr>\n",
       "    <tr>\n",
       "      <th>3</th>\n",
       "      <td>3/17/2021</td>\n",
       "      <td>Xgeva is not cost-effective when compared to z...</td>\n",
       "    </tr>\n",
       "    <tr>\n",
       "      <th>4</th>\n",
       "      <td>7/6/2020</td>\n",
       "      <td>We talked about the ONJ incidence and about th...</td>\n",
       "    </tr>\n",
       "  </tbody>\n",
       "</table>\n",
       "</div>"
      ],
      "text/plain": [
       "  interaction_dt                                       hcp_comments\n",
       "0      6/25/2020  We talked about risk of hypocalcemia in patien...\n",
       "1       9/2/2020                              XGEVA safety aspects.\n",
       "2      11/7/2020  Lung cancer is the second cancer in men, 3000 ...\n",
       "3      3/17/2021  Xgeva is not cost-effective when compared to z...\n",
       "4       7/6/2020  We talked about the ONJ incidence and about th..."
      ]
     },
     "execution_count": 48,
     "metadata": {},
     "output_type": "execute_result"
    }
   ],
   "source": [
    "#Read in new dataset\n",
    "new_dataset = pd.read_csv('xgeva_interactions.csv', na_filter=False)\n",
    "#only look at comments and tags\n",
    "new_dataset = new_dataset[['interaction_dt', 'hcp_comments']]\n",
    "new_dataset.head()"
   ]
  },
  {
   "cell_type": "code",
   "execution_count": 49,
   "id": "678d4fab-61b7-411e-9cd2-44a43dde9131",
   "metadata": {},
   "outputs": [],
   "source": [
    "#Clean and preprocess data\n",
    "new_cleaned_data = []\n",
    "new_indices = []\n",
    "\n",
    "for i in range(0, len(new_dataset['hcp_comments'])):\n",
    "    \n",
    "    comment = re.sub('[^a-zA-Z0-9]' , ' ' , new_dataset['hcp_comments'][i])\n",
    "    #comment = translator.translate(comment).text\n",
    "    comment = comment.lower()\n",
    "    comment = comment.split()\n",
    " \n",
    "    wl = WordNetLemmatizer()\n",
    "    comment = [wl.lemmatize(word) for word in comment] #if not word in set(stopwords.words('english'))]\n",
    "    comment = [w for w in comment if wordnet.synsets(w,pos='n',lang='eng')]\n",
    "    comment = ' '.join(comment)\n",
    "    new_cleaned_data.append(comment)\n",
    "    new_indices.append(i)"
   ]
  },
  {
   "cell_type": "code",
   "execution_count": 50,
   "id": "ea2f8908-73d8-45cf-b8c0-ac6e98ebbb7a",
   "metadata": {},
   "outputs": [],
   "source": [
    "#Remove comments that are blank after cleaning\n",
    "new_processed_data = []\n",
    "new_processed_ind = []\n",
    "\n",
    "for i in range(0, len(new_cleaned_data)):\n",
    "    comment = new_cleaned_data[i]\n",
    "    if comment:\n",
    "        new_processed_data.append(comment)\n",
    "        new_processed_ind.append(new_indices[i])"
   ]
  },
  {
   "cell_type": "code",
   "execution_count": 51,
   "id": "a42f09b2-98e3-4fd6-9157-eb6ae1d32401",
   "metadata": {},
   "outputs": [
    {
     "data": {
      "text/plain": [
       "13155"
      ]
     },
     "execution_count": 51,
     "metadata": {},
     "output_type": "execute_result"
    }
   ],
   "source": [
    "len(new_processed_data)"
   ]
  },
  {
   "cell_type": "code",
   "execution_count": 53,
   "id": "e344cdac-9628-4eec-8fd0-e2206a1e48b3",
   "metadata": {},
   "outputs": [],
   "source": [
    "#Use TF-IDF vectorizer that has been fit to previous dataset to transform new comment data\n",
    "tfidf = TfidfVectorizer()\n",
    "tfidf.fit(processed_data)\n",
    "\n",
    "dense = tfidf.transform(new_processed_data).todense()\n",
    "denselist = dense.tolist()\n",
    "new_feature_df = pd.DataFrame(denselist, columns=feature_names)"
   ]
  },
  {
   "cell_type": "code",
   "execution_count": 54,
   "id": "f6ee6d0a-575c-4bfc-9083-73a00185815f",
   "metadata": {},
   "outputs": [
    {
     "data": {
      "text/html": [
       "<div>\n",
       "<style scoped>\n",
       "    .dataframe tbody tr th:only-of-type {\n",
       "        vertical-align: middle;\n",
       "    }\n",
       "\n",
       "    .dataframe tbody tr th {\n",
       "        vertical-align: top;\n",
       "    }\n",
       "\n",
       "    .dataframe thead th {\n",
       "        text-align: right;\n",
       "    }\n",
       "</style>\n",
       "<table border=\"1\" class=\"dataframe\">\n",
       "  <thead>\n",
       "    <tr style=\"text-align: right;\">\n",
       "      <th></th>\n",
       "      <th>10</th>\n",
       "      <th>100</th>\n",
       "      <th>1000</th>\n",
       "      <th>10000</th>\n",
       "      <th>100000</th>\n",
       "      <th>11</th>\n",
       "      <th>12</th>\n",
       "      <th>13</th>\n",
       "      <th>14</th>\n",
       "      <th>15</th>\n",
       "      <th>...</th>\n",
       "      <th>year</th>\n",
       "      <th>yes</th>\n",
       "      <th>yesterday</th>\n",
       "      <th>yield</th>\n",
       "      <th>york</th>\n",
       "      <th>young</th>\n",
       "      <th>yr</th>\n",
       "      <th>zill</th>\n",
       "      <th>zone</th>\n",
       "      <th>zoom</th>\n",
       "    </tr>\n",
       "  </thead>\n",
       "  <tbody>\n",
       "    <tr>\n",
       "      <th>0</th>\n",
       "      <td>0.0</td>\n",
       "      <td>0.0</td>\n",
       "      <td>0.0</td>\n",
       "      <td>0.0</td>\n",
       "      <td>0.0</td>\n",
       "      <td>0.0</td>\n",
       "      <td>0.0</td>\n",
       "      <td>0.0</td>\n",
       "      <td>0.0</td>\n",
       "      <td>0.0</td>\n",
       "      <td>...</td>\n",
       "      <td>0.0</td>\n",
       "      <td>0.0</td>\n",
       "      <td>0.0</td>\n",
       "      <td>0.0</td>\n",
       "      <td>0.0</td>\n",
       "      <td>0.0</td>\n",
       "      <td>0.0</td>\n",
       "      <td>0.0</td>\n",
       "      <td>0.0</td>\n",
       "      <td>0.0</td>\n",
       "    </tr>\n",
       "    <tr>\n",
       "      <th>1</th>\n",
       "      <td>0.0</td>\n",
       "      <td>0.0</td>\n",
       "      <td>0.0</td>\n",
       "      <td>0.0</td>\n",
       "      <td>0.0</td>\n",
       "      <td>0.0</td>\n",
       "      <td>0.0</td>\n",
       "      <td>0.0</td>\n",
       "      <td>0.0</td>\n",
       "      <td>0.0</td>\n",
       "      <td>...</td>\n",
       "      <td>0.0</td>\n",
       "      <td>0.0</td>\n",
       "      <td>0.0</td>\n",
       "      <td>0.0</td>\n",
       "      <td>0.0</td>\n",
       "      <td>0.0</td>\n",
       "      <td>0.0</td>\n",
       "      <td>0.0</td>\n",
       "      <td>0.0</td>\n",
       "      <td>0.0</td>\n",
       "    </tr>\n",
       "    <tr>\n",
       "      <th>2</th>\n",
       "      <td>0.0</td>\n",
       "      <td>0.0</td>\n",
       "      <td>0.0</td>\n",
       "      <td>0.0</td>\n",
       "      <td>0.0</td>\n",
       "      <td>0.0</td>\n",
       "      <td>0.0</td>\n",
       "      <td>0.0</td>\n",
       "      <td>0.0</td>\n",
       "      <td>0.0</td>\n",
       "      <td>...</td>\n",
       "      <td>0.0</td>\n",
       "      <td>0.0</td>\n",
       "      <td>0.0</td>\n",
       "      <td>0.0</td>\n",
       "      <td>0.0</td>\n",
       "      <td>0.0</td>\n",
       "      <td>0.0</td>\n",
       "      <td>0.0</td>\n",
       "      <td>0.0</td>\n",
       "      <td>0.0</td>\n",
       "    </tr>\n",
       "    <tr>\n",
       "      <th>3</th>\n",
       "      <td>0.0</td>\n",
       "      <td>0.0</td>\n",
       "      <td>0.0</td>\n",
       "      <td>0.0</td>\n",
       "      <td>0.0</td>\n",
       "      <td>0.0</td>\n",
       "      <td>0.0</td>\n",
       "      <td>0.0</td>\n",
       "      <td>0.0</td>\n",
       "      <td>0.0</td>\n",
       "      <td>...</td>\n",
       "      <td>0.0</td>\n",
       "      <td>0.0</td>\n",
       "      <td>0.0</td>\n",
       "      <td>0.0</td>\n",
       "      <td>0.0</td>\n",
       "      <td>0.0</td>\n",
       "      <td>0.0</td>\n",
       "      <td>0.0</td>\n",
       "      <td>0.0</td>\n",
       "      <td>0.0</td>\n",
       "    </tr>\n",
       "    <tr>\n",
       "      <th>4</th>\n",
       "      <td>0.0</td>\n",
       "      <td>0.0</td>\n",
       "      <td>0.0</td>\n",
       "      <td>0.0</td>\n",
       "      <td>0.0</td>\n",
       "      <td>0.0</td>\n",
       "      <td>0.0</td>\n",
       "      <td>0.0</td>\n",
       "      <td>0.0</td>\n",
       "      <td>0.0</td>\n",
       "      <td>...</td>\n",
       "      <td>0.0</td>\n",
       "      <td>0.0</td>\n",
       "      <td>0.0</td>\n",
       "      <td>0.0</td>\n",
       "      <td>0.0</td>\n",
       "      <td>0.0</td>\n",
       "      <td>0.0</td>\n",
       "      <td>0.0</td>\n",
       "      <td>0.0</td>\n",
       "      <td>0.0</td>\n",
       "    </tr>\n",
       "    <tr>\n",
       "      <th>...</th>\n",
       "      <td>...</td>\n",
       "      <td>...</td>\n",
       "      <td>...</td>\n",
       "      <td>...</td>\n",
       "      <td>...</td>\n",
       "      <td>...</td>\n",
       "      <td>...</td>\n",
       "      <td>...</td>\n",
       "      <td>...</td>\n",
       "      <td>...</td>\n",
       "      <td>...</td>\n",
       "      <td>...</td>\n",
       "      <td>...</td>\n",
       "      <td>...</td>\n",
       "      <td>...</td>\n",
       "      <td>...</td>\n",
       "      <td>...</td>\n",
       "      <td>...</td>\n",
       "      <td>...</td>\n",
       "      <td>...</td>\n",
       "      <td>...</td>\n",
       "    </tr>\n",
       "    <tr>\n",
       "      <th>13150</th>\n",
       "      <td>0.0</td>\n",
       "      <td>0.0</td>\n",
       "      <td>0.0</td>\n",
       "      <td>0.0</td>\n",
       "      <td>0.0</td>\n",
       "      <td>0.0</td>\n",
       "      <td>0.0</td>\n",
       "      <td>0.0</td>\n",
       "      <td>0.0</td>\n",
       "      <td>0.0</td>\n",
       "      <td>...</td>\n",
       "      <td>0.0</td>\n",
       "      <td>0.0</td>\n",
       "      <td>0.0</td>\n",
       "      <td>0.0</td>\n",
       "      <td>0.0</td>\n",
       "      <td>0.0</td>\n",
       "      <td>0.0</td>\n",
       "      <td>0.0</td>\n",
       "      <td>0.0</td>\n",
       "      <td>0.0</td>\n",
       "    </tr>\n",
       "    <tr>\n",
       "      <th>13151</th>\n",
       "      <td>0.0</td>\n",
       "      <td>0.0</td>\n",
       "      <td>0.0</td>\n",
       "      <td>0.0</td>\n",
       "      <td>0.0</td>\n",
       "      <td>0.0</td>\n",
       "      <td>0.0</td>\n",
       "      <td>0.0</td>\n",
       "      <td>0.0</td>\n",
       "      <td>0.0</td>\n",
       "      <td>...</td>\n",
       "      <td>0.0</td>\n",
       "      <td>0.0</td>\n",
       "      <td>0.0</td>\n",
       "      <td>0.0</td>\n",
       "      <td>0.0</td>\n",
       "      <td>0.0</td>\n",
       "      <td>0.0</td>\n",
       "      <td>0.0</td>\n",
       "      <td>0.0</td>\n",
       "      <td>0.0</td>\n",
       "    </tr>\n",
       "    <tr>\n",
       "      <th>13152</th>\n",
       "      <td>0.0</td>\n",
       "      <td>0.0</td>\n",
       "      <td>0.0</td>\n",
       "      <td>0.0</td>\n",
       "      <td>0.0</td>\n",
       "      <td>0.0</td>\n",
       "      <td>0.0</td>\n",
       "      <td>0.0</td>\n",
       "      <td>0.0</td>\n",
       "      <td>0.0</td>\n",
       "      <td>...</td>\n",
       "      <td>0.0</td>\n",
       "      <td>0.0</td>\n",
       "      <td>0.0</td>\n",
       "      <td>0.0</td>\n",
       "      <td>0.0</td>\n",
       "      <td>0.0</td>\n",
       "      <td>0.0</td>\n",
       "      <td>0.0</td>\n",
       "      <td>0.0</td>\n",
       "      <td>0.0</td>\n",
       "    </tr>\n",
       "    <tr>\n",
       "      <th>13153</th>\n",
       "      <td>0.0</td>\n",
       "      <td>0.0</td>\n",
       "      <td>0.0</td>\n",
       "      <td>0.0</td>\n",
       "      <td>0.0</td>\n",
       "      <td>0.0</td>\n",
       "      <td>0.0</td>\n",
       "      <td>0.0</td>\n",
       "      <td>0.0</td>\n",
       "      <td>0.0</td>\n",
       "      <td>...</td>\n",
       "      <td>0.0</td>\n",
       "      <td>0.0</td>\n",
       "      <td>0.0</td>\n",
       "      <td>0.0</td>\n",
       "      <td>0.0</td>\n",
       "      <td>0.0</td>\n",
       "      <td>0.0</td>\n",
       "      <td>0.0</td>\n",
       "      <td>0.0</td>\n",
       "      <td>0.0</td>\n",
       "    </tr>\n",
       "    <tr>\n",
       "      <th>13154</th>\n",
       "      <td>0.0</td>\n",
       "      <td>0.0</td>\n",
       "      <td>0.0</td>\n",
       "      <td>0.0</td>\n",
       "      <td>0.0</td>\n",
       "      <td>0.0</td>\n",
       "      <td>0.0</td>\n",
       "      <td>0.0</td>\n",
       "      <td>0.0</td>\n",
       "      <td>0.0</td>\n",
       "      <td>...</td>\n",
       "      <td>0.0</td>\n",
       "      <td>0.0</td>\n",
       "      <td>0.0</td>\n",
       "      <td>0.0</td>\n",
       "      <td>0.0</td>\n",
       "      <td>0.0</td>\n",
       "      <td>0.0</td>\n",
       "      <td>0.0</td>\n",
       "      <td>0.0</td>\n",
       "      <td>0.0</td>\n",
       "    </tr>\n",
       "  </tbody>\n",
       "</table>\n",
       "<p>13155 rows × 3209 columns</p>\n",
       "</div>"
      ],
      "text/plain": [
       "        10  100  1000  10000  100000   11   12   13   14   15  ...  year  yes  \\\n",
       "0      0.0  0.0   0.0    0.0     0.0  0.0  0.0  0.0  0.0  0.0  ...   0.0  0.0   \n",
       "1      0.0  0.0   0.0    0.0     0.0  0.0  0.0  0.0  0.0  0.0  ...   0.0  0.0   \n",
       "2      0.0  0.0   0.0    0.0     0.0  0.0  0.0  0.0  0.0  0.0  ...   0.0  0.0   \n",
       "3      0.0  0.0   0.0    0.0     0.0  0.0  0.0  0.0  0.0  0.0  ...   0.0  0.0   \n",
       "4      0.0  0.0   0.0    0.0     0.0  0.0  0.0  0.0  0.0  0.0  ...   0.0  0.0   \n",
       "...    ...  ...   ...    ...     ...  ...  ...  ...  ...  ...  ...   ...  ...   \n",
       "13150  0.0  0.0   0.0    0.0     0.0  0.0  0.0  0.0  0.0  0.0  ...   0.0  0.0   \n",
       "13151  0.0  0.0   0.0    0.0     0.0  0.0  0.0  0.0  0.0  0.0  ...   0.0  0.0   \n",
       "13152  0.0  0.0   0.0    0.0     0.0  0.0  0.0  0.0  0.0  0.0  ...   0.0  0.0   \n",
       "13153  0.0  0.0   0.0    0.0     0.0  0.0  0.0  0.0  0.0  0.0  ...   0.0  0.0   \n",
       "13154  0.0  0.0   0.0    0.0     0.0  0.0  0.0  0.0  0.0  0.0  ...   0.0  0.0   \n",
       "\n",
       "       yesterday  yield  york  young   yr  zill  zone  zoom  \n",
       "0            0.0    0.0   0.0    0.0  0.0   0.0   0.0   0.0  \n",
       "1            0.0    0.0   0.0    0.0  0.0   0.0   0.0   0.0  \n",
       "2            0.0    0.0   0.0    0.0  0.0   0.0   0.0   0.0  \n",
       "3            0.0    0.0   0.0    0.0  0.0   0.0   0.0   0.0  \n",
       "4            0.0    0.0   0.0    0.0  0.0   0.0   0.0   0.0  \n",
       "...          ...    ...   ...    ...  ...   ...   ...   ...  \n",
       "13150        0.0    0.0   0.0    0.0  0.0   0.0   0.0   0.0  \n",
       "13151        0.0    0.0   0.0    0.0  0.0   0.0   0.0   0.0  \n",
       "13152        0.0    0.0   0.0    0.0  0.0   0.0   0.0   0.0  \n",
       "13153        0.0    0.0   0.0    0.0  0.0   0.0   0.0   0.0  \n",
       "13154        0.0    0.0   0.0    0.0  0.0   0.0   0.0   0.0  \n",
       "\n",
       "[13155 rows x 3209 columns]"
      ]
     },
     "execution_count": 54,
     "metadata": {},
     "output_type": "execute_result"
    }
   ],
   "source": [
    "new_feature_df"
   ]
  },
  {
   "cell_type": "code",
   "execution_count": 55,
   "id": "7137fa1e-2138-4f25-a0c2-486c475d2a15",
   "metadata": {},
   "outputs": [
    {
     "name": "stdout",
     "output_type": "stream",
     "text": [
      "(13155, 3209)\n"
     ]
    }
   ],
   "source": [
    "X_test = new_feature_df\n",
    "print(X_test.shape)"
   ]
  },
  {
   "cell_type": "code",
   "execution_count": 56,
   "id": "0a8b912e-faed-41ff-888b-03f9cfede5ff",
   "metadata": {},
   "outputs": [
    {
     "name": "stdout",
     "output_type": "stream",
     "text": [
      "(7112, 3209)\n",
      "(7112,)\n"
     ]
    }
   ],
   "source": [
    "#Training will be taken from previous dataset \n",
    "X_train = feature_df\n",
    "print(X_train.shape)\n",
    "Y_train = Y = df['Actionable']\n",
    "print(Y_train.shape)"
   ]
  },
  {
   "cell_type": "code",
   "execution_count": 57,
   "id": "55197ff2-e506-419e-9d0a-e6884433b113",
   "metadata": {},
   "outputs": [],
   "source": [
    "clf = LogisticRegression().fit(X_train, Y_train.values.ravel())\n",
    "Y_Test_Pred = clf.predict(X_test)"
   ]
  },
  {
   "cell_type": "code",
   "execution_count": 58,
   "id": "77633ed8-d03f-450e-9562-7129867234f5",
   "metadata": {},
   "outputs": [],
   "source": [
    "#Print actionable items- start by getting indices of original comments\n",
    "#ind = indices of only actionable items\n",
    "ind = []\n",
    "\n",
    "for i in range(0, len(Y_Test_Pred)):\n",
    "    item = Y_Test_Pred[i]\n",
    "    if item == 1:\n",
    "        ind.append(i)\n",
    "\n",
    "comment_indices = []\n",
    "for i in ind:\n",
    "    comment_indices.append(X_test.iloc[i].name)"
   ]
  },
  {
   "cell_type": "code",
   "execution_count": 59,
   "id": "900a80a8-1e7a-47bb-9955-d1e17cd84c93",
   "metadata": {
    "tags": []
   },
   "outputs": [
    {
     "name": "stdout",
     "output_type": "stream",
     "text": [
      "167. There are 2 patients being treated with denosumab.\n",
      "461. There are 2 patients being treated with Denosumab.\n",
      "638. â—‹ Frequency of dosing: \n",
      "\t\tâ—‹ patients are willing to take a monthly therapy for the first year, but after the first year they need less frequent dosing.  Quote: \"This is very, very important. No one wants to be here more than every two weeks, ideally no more often than every 4 weeks\"  \n",
      "\t\tâ—‹ Q1wk dosing is not clinically preferred, especially if there is a Q3wk option\n",
      "\t\tâ—‹ XGEVA mentioned, and Dr. Kumar said that Mayo uses anti-resorptives every 3 months as an example.\n",
      "816. Still catching up on surgery backlog due to COVID-19, but currently there is little impact of the pandemic on his practice. Patients are able to get treatment and denosumab injections are not an issue.\n",
      "2031. Xgeva could more consideration because of its efficacy, ease of administration and less severe side effects. The data of QOL showed benefit. However limitation of cost ,doctors would need to balance cost and efficacy.\n",
      "2103. Vitamin D and calcium should be supplemented when patients are treated with BTAs.\n",
      "2571. We discussed about the COVID 19 situation in his public hospital, unfortunately they do not have Xgeva available at the moment, but he agrees that the subcutaneous presentation is a great advantage for the patients.\n",
      "3049. Access to genetic testing for prostate cancer DDR/HRR gene mutations for PrCa emerging, however access for patietns is a challenge.  Process as of Aug 2020 where every patient can be sent for germline testing, problems is missed 50% of patients with somatic mutations not detected via current methods in place. Somatic testing with ctDNA is more challenging, expensing, complicated and no access yet.  For somatic mutation testing of PrCa patients is mainly done through clinical trials.  The have tested mor than 200 patients in the past 2 yrs via clinical trial.  \n",
      "  Important to have these first results from ph3 PROfound ESMO to implement, and he suspects that this will be practice changing, however benefit that at least germline testing is widely available and accessed via CCO.  Can also sent to FoundationOne however out of pocket cost of 4k or so and not many patients can do that.\n",
      "\n",
      "Advocacy needed by urologists and oncologists for this.\n",
      "3905. the mode of administration of denosumab is easier than ZA and more comptabile with COVID situation, but it still necessary for patient to come to the hospital to take their treatment, instead of ZA, which they can buy it from private pharmacists and take it to the nearest public health center to administer it\n",
      "5893. Asked if there were any issues because of COVID. She has been getting the GPS to give it. No issues to report.\n",
      "6155. Hard to access, useful if patients have private insurance or in case of renal impairement\n",
      "6463. Discussed how patients are being treated (or not) in the current Covid conditions. Dr suggested that there may be more patients going to GPs for treatment, as they have been trying to keep as many patients  out of the clinic as possible\n",
      "6816. Introductory meeting with her. She treats both breast cancer and melanoma (she has much more BC in her practise â€“ about 10% are melanoma). She mentioned that there were challenge re-opening clinical trials that were on hold due to COVID.  There were logistical issues and lots of paperwork. She is involved in the REaCT trials (for example, the duration of adjuvant bisphosphonate in breast cancer; duration of HER2 therapy and other trials due for patient support and symptom managemen)t.\n",
      "\n",
      "With regards to COVID â€“ meetings are going back to virtual, but some exams need to be done face-to-face. There was no interruption to chemotherapy but there was some delay in surgeries, so they used chemotherapy as a bridge. \n",
      "\n",
      "She has a small population on Xgeva (those with private insurance. She in involved in the de-escalation trials for dosing intervals (REaCT). Some patients are comfortable with self injections.\n",
      "9708. BTAs still be adjunctive therapy with primary cancer treatment so cost is a burden for Denosumab in public sector. However, in Private some patients need a best choice for them.\n",
      "10251. We discussed giving Xgeva during COVID. I mentioned the pilot project being done in NB (community pharmacists will be trained to give Xgeva). He said that Xgeva for his patients is given by GPs and there wasn't a delay due to Covid. I asked what he did after two years. Most of the patients he starts on Xgeva are referred to medical oncology.\n",
      "19201. As per her experience in her department, Denosumab seems to lead to more ONJ cases since the patients are more likely to be treated longer with denosumab (more than 2 years) than ZA, but the cases concern less than 5 % (approximatively) of all the cases and Pr Djedi incriminate the lack of awareness specially towards dentists and maxillofacial surgeon (Asked Amgen to help in that)\n",
      "19999. feels that there are some pt she has that would benefit from not coming to hospital for pamidronate. Expecting that screening will continue to be low and will see a 10% increase in chemo therapy given in a couple of years due to more advanced / high risk/ metastatic cases.\n",
      "27111. Discussed the COVID 19 situation with Dr and the issues of keeping patients on regular doses of denosumab. Dr has not seen a major problem at this point however he pointed out we are still fairly early in the situation. He has not initiated a patient on denosumab since the lock-down began,  but this be due to not seeing an eligible patient\n"
     ]
    }
   ],
   "source": [
    "#Print out actionable items detected with ML!\n",
    "#Remove duplicates (a lot in this dataset)\n",
    "act_lst = []\n",
    "\n",
    "for i in comment_indices:\n",
    "    index = new_processed_ind[i]\n",
    "    item = []\n",
    "    item.append(index+1)\n",
    "    item.append(new_dataset['hcp_comments'][index])\n",
    "    act_lst.append(item)\n",
    "\n",
    "\n",
    "print_lst = []\n",
    "for item in act_lst:\n",
    "    if item[1] not in print_lst:\n",
    "        print('{}. {}'.format(item[0], item[1]))\n",
    "    print_lst.append(item[1])"
   ]
  },
  {
   "cell_type": "code",
   "execution_count": null,
   "id": "e861f490-aeb8-41c0-b84b-a595bc275197",
   "metadata": {},
   "outputs": [],
   "source": []
  }
 ],
 "metadata": {
  "kernelspec": {
   "display_name": "Python 3 (ipykernel)",
   "language": "python",
   "name": "python3"
  },
  "language_info": {
   "codemirror_mode": {
    "name": "ipython",
    "version": 3
   },
   "file_extension": ".py",
   "mimetype": "text/x-python",
   "name": "python",
   "nbconvert_exporter": "python",
   "pygments_lexer": "ipython3",
   "version": "3.9.6"
  },
  "toc-showcode": true
 },
 "nbformat": 4,
 "nbformat_minor": 5
}
